{
  "cells": [
    {
      "cell_type": "code",
      "execution_count": 1,
      "metadata": {
        "id": "lIYdn1woOS1n",
        "colab": {
          "base_uri": "https://localhost:8080/"
        },
        "outputId": "f01f4d89-7180-4757-9452-35849aebe9e6"
      },
      "outputs": [
        {
          "output_type": "stream",
          "name": "stdout",
          "text": [
            "Downloading...\n",
            "From: https://drive.google.com/uc?id=19boPIrMjS3AYlEvFMp8F02bmVegnrDnf\n",
            "To: /content/coin_Dogecoin.csv\n",
            "\r  0% 0.00/395k [00:00<?, ?B/s]\r100% 395k/395k [00:00<00:00, 87.1MB/s]\n"
          ]
        }
      ],
      "source": [
        "#!pip install gdown\n",
        "!gdown 19boPIrMjS3AYlEvFMp8F02bmVegnrDnf # Source: kaggle.com\n",
        "import pandas as pd\n",
        "import numpy as np\n",
        "import matplotlib.pyplot as plt\n",
        "import seaborn as sns\n",
        "plt.style.use('ggplot')\n",
        "import xgboost as xgb\n",
        "from warnings import filterwarnings\n",
        "filterwarnings(\"ignore\")\n",
        "from sklearn.metrics import mean_squared_error\n",
        "from sklearn.model_selection import GridSearchCV "
      ]
    },
    {
      "cell_type": "code",
      "source": [
        "train = pd.read_csv('coin_Dogecoin.csv')\n",
        "train.head()"
      ],
      "metadata": {
        "id": "olLvsUc4WFzy",
        "outputId": "e45da8a5-baa5-4d62-c5af-a16aeac5d18b",
        "colab": {
          "base_uri": "https://localhost:8080/",
          "height": 206
        }
      },
      "execution_count": 2,
      "outputs": [
        {
          "output_type": "execute_result",
          "data": {
            "text/plain": [
              "   SNo      Name Symbol                 Date      High       Low      Open  \\\n",
              "0    1  Dogecoin   DOGE  2013-12-16 23:59:59  0.000866  0.000150  0.000299   \n",
              "1    2  Dogecoin   DOGE  2013-12-17 23:59:59  0.000289  0.000116  0.000207   \n",
              "2    3  Dogecoin   DOGE  2013-12-18 23:59:59  0.000362  0.000205  0.000267   \n",
              "3    4  Dogecoin   DOGE  2013-12-19 23:59:59  0.001520  0.000328  0.000395   \n",
              "4    5  Dogecoin   DOGE  2013-12-20 23:59:59  0.001143  0.000662  0.001143   \n",
              "\n",
              "      Close  Volume     Marketcap  \n",
              "0  0.000205     0.0  1.509085e+06  \n",
              "1  0.000269     0.0  2.169688e+06  \n",
              "2  0.000362     0.0  3.188943e+06  \n",
              "3  0.001162     0.0  1.115034e+07  \n",
              "4  0.000704     0.0  7.284337e+06  "
            ],
            "text/html": [
              "\n",
              "  <div id=\"df-c3399bb0-df84-4129-ae1f-c836ed28c89e\">\n",
              "    <div class=\"colab-df-container\">\n",
              "      <div>\n",
              "<style scoped>\n",
              "    .dataframe tbody tr th:only-of-type {\n",
              "        vertical-align: middle;\n",
              "    }\n",
              "\n",
              "    .dataframe tbody tr th {\n",
              "        vertical-align: top;\n",
              "    }\n",
              "\n",
              "    .dataframe thead th {\n",
              "        text-align: right;\n",
              "    }\n",
              "</style>\n",
              "<table border=\"1\" class=\"dataframe\">\n",
              "  <thead>\n",
              "    <tr style=\"text-align: right;\">\n",
              "      <th></th>\n",
              "      <th>SNo</th>\n",
              "      <th>Name</th>\n",
              "      <th>Symbol</th>\n",
              "      <th>Date</th>\n",
              "      <th>High</th>\n",
              "      <th>Low</th>\n",
              "      <th>Open</th>\n",
              "      <th>Close</th>\n",
              "      <th>Volume</th>\n",
              "      <th>Marketcap</th>\n",
              "    </tr>\n",
              "  </thead>\n",
              "  <tbody>\n",
              "    <tr>\n",
              "      <th>0</th>\n",
              "      <td>1</td>\n",
              "      <td>Dogecoin</td>\n",
              "      <td>DOGE</td>\n",
              "      <td>2013-12-16 23:59:59</td>\n",
              "      <td>0.000866</td>\n",
              "      <td>0.000150</td>\n",
              "      <td>0.000299</td>\n",
              "      <td>0.000205</td>\n",
              "      <td>0.0</td>\n",
              "      <td>1.509085e+06</td>\n",
              "    </tr>\n",
              "    <tr>\n",
              "      <th>1</th>\n",
              "      <td>2</td>\n",
              "      <td>Dogecoin</td>\n",
              "      <td>DOGE</td>\n",
              "      <td>2013-12-17 23:59:59</td>\n",
              "      <td>0.000289</td>\n",
              "      <td>0.000116</td>\n",
              "      <td>0.000207</td>\n",
              "      <td>0.000269</td>\n",
              "      <td>0.0</td>\n",
              "      <td>2.169688e+06</td>\n",
              "    </tr>\n",
              "    <tr>\n",
              "      <th>2</th>\n",
              "      <td>3</td>\n",
              "      <td>Dogecoin</td>\n",
              "      <td>DOGE</td>\n",
              "      <td>2013-12-18 23:59:59</td>\n",
              "      <td>0.000362</td>\n",
              "      <td>0.000205</td>\n",
              "      <td>0.000267</td>\n",
              "      <td>0.000362</td>\n",
              "      <td>0.0</td>\n",
              "      <td>3.188943e+06</td>\n",
              "    </tr>\n",
              "    <tr>\n",
              "      <th>3</th>\n",
              "      <td>4</td>\n",
              "      <td>Dogecoin</td>\n",
              "      <td>DOGE</td>\n",
              "      <td>2013-12-19 23:59:59</td>\n",
              "      <td>0.001520</td>\n",
              "      <td>0.000328</td>\n",
              "      <td>0.000395</td>\n",
              "      <td>0.001162</td>\n",
              "      <td>0.0</td>\n",
              "      <td>1.115034e+07</td>\n",
              "    </tr>\n",
              "    <tr>\n",
              "      <th>4</th>\n",
              "      <td>5</td>\n",
              "      <td>Dogecoin</td>\n",
              "      <td>DOGE</td>\n",
              "      <td>2013-12-20 23:59:59</td>\n",
              "      <td>0.001143</td>\n",
              "      <td>0.000662</td>\n",
              "      <td>0.001143</td>\n",
              "      <td>0.000704</td>\n",
              "      <td>0.0</td>\n",
              "      <td>7.284337e+06</td>\n",
              "    </tr>\n",
              "  </tbody>\n",
              "</table>\n",
              "</div>\n",
              "      <button class=\"colab-df-convert\" onclick=\"convertToInteractive('df-c3399bb0-df84-4129-ae1f-c836ed28c89e')\"\n",
              "              title=\"Convert this dataframe to an interactive table.\"\n",
              "              style=\"display:none;\">\n",
              "        \n",
              "  <svg xmlns=\"http://www.w3.org/2000/svg\" height=\"24px\"viewBox=\"0 0 24 24\"\n",
              "       width=\"24px\">\n",
              "    <path d=\"M0 0h24v24H0V0z\" fill=\"none\"/>\n",
              "    <path d=\"M18.56 5.44l.94 2.06.94-2.06 2.06-.94-2.06-.94-.94-2.06-.94 2.06-2.06.94zm-11 1L8.5 8.5l.94-2.06 2.06-.94-2.06-.94L8.5 2.5l-.94 2.06-2.06.94zm10 10l.94 2.06.94-2.06 2.06-.94-2.06-.94-.94-2.06-.94 2.06-2.06.94z\"/><path d=\"M17.41 7.96l-1.37-1.37c-.4-.4-.92-.59-1.43-.59-.52 0-1.04.2-1.43.59L10.3 9.45l-7.72 7.72c-.78.78-.78 2.05 0 2.83L4 21.41c.39.39.9.59 1.41.59.51 0 1.02-.2 1.41-.59l7.78-7.78 2.81-2.81c.8-.78.8-2.07 0-2.86zM5.41 20L4 18.59l7.72-7.72 1.47 1.35L5.41 20z\"/>\n",
              "  </svg>\n",
              "      </button>\n",
              "      \n",
              "  <style>\n",
              "    .colab-df-container {\n",
              "      display:flex;\n",
              "      flex-wrap:wrap;\n",
              "      gap: 12px;\n",
              "    }\n",
              "\n",
              "    .colab-df-convert {\n",
              "      background-color: #E8F0FE;\n",
              "      border: none;\n",
              "      border-radius: 50%;\n",
              "      cursor: pointer;\n",
              "      display: none;\n",
              "      fill: #1967D2;\n",
              "      height: 32px;\n",
              "      padding: 0 0 0 0;\n",
              "      width: 32px;\n",
              "    }\n",
              "\n",
              "    .colab-df-convert:hover {\n",
              "      background-color: #E2EBFA;\n",
              "      box-shadow: 0px 1px 2px rgba(60, 64, 67, 0.3), 0px 1px 3px 1px rgba(60, 64, 67, 0.15);\n",
              "      fill: #174EA6;\n",
              "    }\n",
              "\n",
              "    [theme=dark] .colab-df-convert {\n",
              "      background-color: #3B4455;\n",
              "      fill: #D2E3FC;\n",
              "    }\n",
              "\n",
              "    [theme=dark] .colab-df-convert:hover {\n",
              "      background-color: #434B5C;\n",
              "      box-shadow: 0px 1px 3px 1px rgba(0, 0, 0, 0.15);\n",
              "      filter: drop-shadow(0px 1px 2px rgba(0, 0, 0, 0.3));\n",
              "      fill: #FFFFFF;\n",
              "    }\n",
              "  </style>\n",
              "\n",
              "      <script>\n",
              "        const buttonEl =\n",
              "          document.querySelector('#df-c3399bb0-df84-4129-ae1f-c836ed28c89e button.colab-df-convert');\n",
              "        buttonEl.style.display =\n",
              "          google.colab.kernel.accessAllowed ? 'block' : 'none';\n",
              "\n",
              "        async function convertToInteractive(key) {\n",
              "          const element = document.querySelector('#df-c3399bb0-df84-4129-ae1f-c836ed28c89e');\n",
              "          const dataTable =\n",
              "            await google.colab.kernel.invokeFunction('convertToInteractive',\n",
              "                                                     [key], {});\n",
              "          if (!dataTable) return;\n",
              "\n",
              "          const docLinkHtml = 'Like what you see? Visit the ' +\n",
              "            '<a target=\"_blank\" href=https://colab.research.google.com/notebooks/data_table.ipynb>data table notebook</a>'\n",
              "            + ' to learn more about interactive tables.';\n",
              "          element.innerHTML = '';\n",
              "          dataTable['output_type'] = 'display_data';\n",
              "          await google.colab.output.renderOutput(dataTable, element);\n",
              "          const docLink = document.createElement('div');\n",
              "          docLink.innerHTML = docLinkHtml;\n",
              "          element.appendChild(docLink);\n",
              "        }\n",
              "      </script>\n",
              "    </div>\n",
              "  </div>\n",
              "  "
            ]
          },
          "metadata": {},
          "execution_count": 2
        }
      ]
    },
    {
      "cell_type": "markdown",
      "source": [
        "**Quick EDA to get some insights from the data.**"
      ],
      "metadata": {
        "id": "RoCpWBnQjHei"
      }
    },
    {
      "cell_type": "code",
      "source": [
        "print(train.info())\n",
        "train.describe()"
      ],
      "metadata": {
        "id": "lV35ZncGW-24",
        "outputId": "edbc587a-f24b-4208-c9f4-97d06f9d0120",
        "colab": {
          "base_uri": "https://localhost:8080/",
          "height": 612
        }
      },
      "execution_count": 3,
      "outputs": [
        {
          "output_type": "stream",
          "name": "stdout",
          "text": [
            "<class 'pandas.core.frame.DataFrame'>\n",
            "RangeIndex: 2760 entries, 0 to 2759\n",
            "Data columns (total 10 columns):\n",
            " #   Column     Non-Null Count  Dtype  \n",
            "---  ------     --------------  -----  \n",
            " 0   SNo        2760 non-null   int64  \n",
            " 1   Name       2760 non-null   object \n",
            " 2   Symbol     2760 non-null   object \n",
            " 3   Date       2760 non-null   object \n",
            " 4   High       2760 non-null   float64\n",
            " 5   Low        2760 non-null   float64\n",
            " 6   Open       2760 non-null   float64\n",
            " 7   Close      2760 non-null   float64\n",
            " 8   Volume     2760 non-null   float64\n",
            " 9   Marketcap  2760 non-null   float64\n",
            "dtypes: float64(6), int64(1), object(3)\n",
            "memory usage: 215.8+ KB\n",
            "None\n"
          ]
        },
        {
          "output_type": "execute_result",
          "data": {
            "text/plain": [
              "               SNo         High          Low         Open        Close  \\\n",
              "count  2760.000000  2760.000000  2760.000000  2760.000000  2760.000000   \n",
              "mean   1380.500000     0.014964     0.012402     0.013669     0.013763   \n",
              "std     796.887696     0.069103     0.055536     0.062347     0.062559   \n",
              "min       1.000000     0.000089     0.000085     0.000087     0.000087   \n",
              "25%     690.750000     0.000231     0.000222     0.000227     0.000226   \n",
              "50%    1380.500000     0.001914     0.001772     0.001849     0.001844   \n",
              "75%    2070.250000     0.002986     0.002796     0.002900     0.002899   \n",
              "max    2760.000000     0.737567     0.608168     0.687801     0.684777   \n",
              "\n",
              "             Volume     Marketcap  \n",
              "count  2.760000e+03  2.760000e+03  \n",
              "mean   4.326321e+08  1.760533e+09  \n",
              "std    2.807320e+09  8.115186e+09  \n",
              "min    0.000000e+00  1.509085e+06  \n",
              "25%    2.536138e+05  2.337892e+07  \n",
              "50%    5.582480e+06  2.135789e+08  \n",
              "75%    5.098244e+07  3.488812e+08  \n",
              "max    6.941068e+10  8.868082e+10  "
            ],
            "text/html": [
              "\n",
              "  <div id=\"df-06bc1417-a34d-4cdf-8bae-86a1cd2824e7\">\n",
              "    <div class=\"colab-df-container\">\n",
              "      <div>\n",
              "<style scoped>\n",
              "    .dataframe tbody tr th:only-of-type {\n",
              "        vertical-align: middle;\n",
              "    }\n",
              "\n",
              "    .dataframe tbody tr th {\n",
              "        vertical-align: top;\n",
              "    }\n",
              "\n",
              "    .dataframe thead th {\n",
              "        text-align: right;\n",
              "    }\n",
              "</style>\n",
              "<table border=\"1\" class=\"dataframe\">\n",
              "  <thead>\n",
              "    <tr style=\"text-align: right;\">\n",
              "      <th></th>\n",
              "      <th>SNo</th>\n",
              "      <th>High</th>\n",
              "      <th>Low</th>\n",
              "      <th>Open</th>\n",
              "      <th>Close</th>\n",
              "      <th>Volume</th>\n",
              "      <th>Marketcap</th>\n",
              "    </tr>\n",
              "  </thead>\n",
              "  <tbody>\n",
              "    <tr>\n",
              "      <th>count</th>\n",
              "      <td>2760.000000</td>\n",
              "      <td>2760.000000</td>\n",
              "      <td>2760.000000</td>\n",
              "      <td>2760.000000</td>\n",
              "      <td>2760.000000</td>\n",
              "      <td>2.760000e+03</td>\n",
              "      <td>2.760000e+03</td>\n",
              "    </tr>\n",
              "    <tr>\n",
              "      <th>mean</th>\n",
              "      <td>1380.500000</td>\n",
              "      <td>0.014964</td>\n",
              "      <td>0.012402</td>\n",
              "      <td>0.013669</td>\n",
              "      <td>0.013763</td>\n",
              "      <td>4.326321e+08</td>\n",
              "      <td>1.760533e+09</td>\n",
              "    </tr>\n",
              "    <tr>\n",
              "      <th>std</th>\n",
              "      <td>796.887696</td>\n",
              "      <td>0.069103</td>\n",
              "      <td>0.055536</td>\n",
              "      <td>0.062347</td>\n",
              "      <td>0.062559</td>\n",
              "      <td>2.807320e+09</td>\n",
              "      <td>8.115186e+09</td>\n",
              "    </tr>\n",
              "    <tr>\n",
              "      <th>min</th>\n",
              "      <td>1.000000</td>\n",
              "      <td>0.000089</td>\n",
              "      <td>0.000085</td>\n",
              "      <td>0.000087</td>\n",
              "      <td>0.000087</td>\n",
              "      <td>0.000000e+00</td>\n",
              "      <td>1.509085e+06</td>\n",
              "    </tr>\n",
              "    <tr>\n",
              "      <th>25%</th>\n",
              "      <td>690.750000</td>\n",
              "      <td>0.000231</td>\n",
              "      <td>0.000222</td>\n",
              "      <td>0.000227</td>\n",
              "      <td>0.000226</td>\n",
              "      <td>2.536138e+05</td>\n",
              "      <td>2.337892e+07</td>\n",
              "    </tr>\n",
              "    <tr>\n",
              "      <th>50%</th>\n",
              "      <td>1380.500000</td>\n",
              "      <td>0.001914</td>\n",
              "      <td>0.001772</td>\n",
              "      <td>0.001849</td>\n",
              "      <td>0.001844</td>\n",
              "      <td>5.582480e+06</td>\n",
              "      <td>2.135789e+08</td>\n",
              "    </tr>\n",
              "    <tr>\n",
              "      <th>75%</th>\n",
              "      <td>2070.250000</td>\n",
              "      <td>0.002986</td>\n",
              "      <td>0.002796</td>\n",
              "      <td>0.002900</td>\n",
              "      <td>0.002899</td>\n",
              "      <td>5.098244e+07</td>\n",
              "      <td>3.488812e+08</td>\n",
              "    </tr>\n",
              "    <tr>\n",
              "      <th>max</th>\n",
              "      <td>2760.000000</td>\n",
              "      <td>0.737567</td>\n",
              "      <td>0.608168</td>\n",
              "      <td>0.687801</td>\n",
              "      <td>0.684777</td>\n",
              "      <td>6.941068e+10</td>\n",
              "      <td>8.868082e+10</td>\n",
              "    </tr>\n",
              "  </tbody>\n",
              "</table>\n",
              "</div>\n",
              "      <button class=\"colab-df-convert\" onclick=\"convertToInteractive('df-06bc1417-a34d-4cdf-8bae-86a1cd2824e7')\"\n",
              "              title=\"Convert this dataframe to an interactive table.\"\n",
              "              style=\"display:none;\">\n",
              "        \n",
              "  <svg xmlns=\"http://www.w3.org/2000/svg\" height=\"24px\"viewBox=\"0 0 24 24\"\n",
              "       width=\"24px\">\n",
              "    <path d=\"M0 0h24v24H0V0z\" fill=\"none\"/>\n",
              "    <path d=\"M18.56 5.44l.94 2.06.94-2.06 2.06-.94-2.06-.94-.94-2.06-.94 2.06-2.06.94zm-11 1L8.5 8.5l.94-2.06 2.06-.94-2.06-.94L8.5 2.5l-.94 2.06-2.06.94zm10 10l.94 2.06.94-2.06 2.06-.94-2.06-.94-.94-2.06-.94 2.06-2.06.94z\"/><path d=\"M17.41 7.96l-1.37-1.37c-.4-.4-.92-.59-1.43-.59-.52 0-1.04.2-1.43.59L10.3 9.45l-7.72 7.72c-.78.78-.78 2.05 0 2.83L4 21.41c.39.39.9.59 1.41.59.51 0 1.02-.2 1.41-.59l7.78-7.78 2.81-2.81c.8-.78.8-2.07 0-2.86zM5.41 20L4 18.59l7.72-7.72 1.47 1.35L5.41 20z\"/>\n",
              "  </svg>\n",
              "      </button>\n",
              "      \n",
              "  <style>\n",
              "    .colab-df-container {\n",
              "      display:flex;\n",
              "      flex-wrap:wrap;\n",
              "      gap: 12px;\n",
              "    }\n",
              "\n",
              "    .colab-df-convert {\n",
              "      background-color: #E8F0FE;\n",
              "      border: none;\n",
              "      border-radius: 50%;\n",
              "      cursor: pointer;\n",
              "      display: none;\n",
              "      fill: #1967D2;\n",
              "      height: 32px;\n",
              "      padding: 0 0 0 0;\n",
              "      width: 32px;\n",
              "    }\n",
              "\n",
              "    .colab-df-convert:hover {\n",
              "      background-color: #E2EBFA;\n",
              "      box-shadow: 0px 1px 2px rgba(60, 64, 67, 0.3), 0px 1px 3px 1px rgba(60, 64, 67, 0.15);\n",
              "      fill: #174EA6;\n",
              "    }\n",
              "\n",
              "    [theme=dark] .colab-df-convert {\n",
              "      background-color: #3B4455;\n",
              "      fill: #D2E3FC;\n",
              "    }\n",
              "\n",
              "    [theme=dark] .colab-df-convert:hover {\n",
              "      background-color: #434B5C;\n",
              "      box-shadow: 0px 1px 3px 1px rgba(0, 0, 0, 0.15);\n",
              "      filter: drop-shadow(0px 1px 2px rgba(0, 0, 0, 0.3));\n",
              "      fill: #FFFFFF;\n",
              "    }\n",
              "  </style>\n",
              "\n",
              "      <script>\n",
              "        const buttonEl =\n",
              "          document.querySelector('#df-06bc1417-a34d-4cdf-8bae-86a1cd2824e7 button.colab-df-convert');\n",
              "        buttonEl.style.display =\n",
              "          google.colab.kernel.accessAllowed ? 'block' : 'none';\n",
              "\n",
              "        async function convertToInteractive(key) {\n",
              "          const element = document.querySelector('#df-06bc1417-a34d-4cdf-8bae-86a1cd2824e7');\n",
              "          const dataTable =\n",
              "            await google.colab.kernel.invokeFunction('convertToInteractive',\n",
              "                                                     [key], {});\n",
              "          if (!dataTable) return;\n",
              "\n",
              "          const docLinkHtml = 'Like what you see? Visit the ' +\n",
              "            '<a target=\"_blank\" href=https://colab.research.google.com/notebooks/data_table.ipynb>data table notebook</a>'\n",
              "            + ' to learn more about interactive tables.';\n",
              "          element.innerHTML = '';\n",
              "          dataTable['output_type'] = 'display_data';\n",
              "          await google.colab.output.renderOutput(dataTable, element);\n",
              "          const docLink = document.createElement('div');\n",
              "          docLink.innerHTML = docLinkHtml;\n",
              "          element.appendChild(docLink);\n",
              "        }\n",
              "      </script>\n",
              "    </div>\n",
              "  </div>\n",
              "  "
            ]
          },
          "metadata": {},
          "execution_count": 3
        }
      ]
    },
    {
      "cell_type": "code",
      "source": [
        "train.index = pd.to_datetime(train['Date'])\n",
        "train.drop(['Date','Name','Symbol','Volume','Marketcap','SNo'],axis=1,inplace=True) # had to drop some useful features to match the test data, could've kept the Volume but that would be very time consuming and its latee atm\n",
        "train.index"
      ],
      "metadata": {
        "id": "d3sHjGc-Xl9h",
        "outputId": "1c57b00c-7729-41fa-ff6e-473189f49d4d",
        "colab": {
          "base_uri": "https://localhost:8080/"
        }
      },
      "execution_count": 4,
      "outputs": [
        {
          "output_type": "execute_result",
          "data": {
            "text/plain": [
              "DatetimeIndex(['2013-12-16 23:59:59', '2013-12-17 23:59:59',\n",
              "               '2013-12-18 23:59:59', '2013-12-19 23:59:59',\n",
              "               '2013-12-20 23:59:59', '2013-12-21 23:59:59',\n",
              "               '2013-12-22 23:59:59', '2013-12-23 23:59:59',\n",
              "               '2013-12-24 23:59:59', '2013-12-25 23:59:59',\n",
              "               ...\n",
              "               '2021-06-27 23:59:59', '2021-06-28 23:59:59',\n",
              "               '2021-06-29 23:59:59', '2021-06-30 23:59:59',\n",
              "               '2021-07-01 23:59:59', '2021-07-02 23:59:59',\n",
              "               '2021-07-03 23:59:59', '2021-07-04 23:59:59',\n",
              "               '2021-07-05 23:59:59', '2021-07-06 23:59:59'],\n",
              "              dtype='datetime64[ns]', name='Date', length=2760, freq=None)"
            ]
          },
          "metadata": {},
          "execution_count": 4
        }
      ]
    },
    {
      "cell_type": "code",
      "source": [
        "def create_features(df):\n",
        "  df['dayofweek'] = df.index.day_of_week\n",
        "  df['month'] = df.index.month\n",
        "  df['dayofyear'] = df.index.dayofyear\n",
        "  return df\n",
        "train = create_features(train)\n",
        "train.head()"
      ],
      "metadata": {
        "id": "GPeV9TNeZoOX",
        "colab": {
          "base_uri": "https://localhost:8080/",
          "height": 237
        },
        "outputId": "e857685e-dea5-4d42-ab29-036d6bf298d0"
      },
      "execution_count": 5,
      "outputs": [
        {
          "output_type": "execute_result",
          "data": {
            "text/plain": [
              "                         High       Low      Open     Close  dayofweek  month  \\\n",
              "Date                                                                            \n",
              "2013-12-16 23:59:59  0.000866  0.000150  0.000299  0.000205          0     12   \n",
              "2013-12-17 23:59:59  0.000289  0.000116  0.000207  0.000269          1     12   \n",
              "2013-12-18 23:59:59  0.000362  0.000205  0.000267  0.000362          2     12   \n",
              "2013-12-19 23:59:59  0.001520  0.000328  0.000395  0.001162          3     12   \n",
              "2013-12-20 23:59:59  0.001143  0.000662  0.001143  0.000704          4     12   \n",
              "\n",
              "                     dayofyear  \n",
              "Date                            \n",
              "2013-12-16 23:59:59        350  \n",
              "2013-12-17 23:59:59        351  \n",
              "2013-12-18 23:59:59        352  \n",
              "2013-12-19 23:59:59        353  \n",
              "2013-12-20 23:59:59        354  "
            ],
            "text/html": [
              "\n",
              "  <div id=\"df-af362466-fd2f-43f1-9433-f14e3e069016\">\n",
              "    <div class=\"colab-df-container\">\n",
              "      <div>\n",
              "<style scoped>\n",
              "    .dataframe tbody tr th:only-of-type {\n",
              "        vertical-align: middle;\n",
              "    }\n",
              "\n",
              "    .dataframe tbody tr th {\n",
              "        vertical-align: top;\n",
              "    }\n",
              "\n",
              "    .dataframe thead th {\n",
              "        text-align: right;\n",
              "    }\n",
              "</style>\n",
              "<table border=\"1\" class=\"dataframe\">\n",
              "  <thead>\n",
              "    <tr style=\"text-align: right;\">\n",
              "      <th></th>\n",
              "      <th>High</th>\n",
              "      <th>Low</th>\n",
              "      <th>Open</th>\n",
              "      <th>Close</th>\n",
              "      <th>dayofweek</th>\n",
              "      <th>month</th>\n",
              "      <th>dayofyear</th>\n",
              "    </tr>\n",
              "    <tr>\n",
              "      <th>Date</th>\n",
              "      <th></th>\n",
              "      <th></th>\n",
              "      <th></th>\n",
              "      <th></th>\n",
              "      <th></th>\n",
              "      <th></th>\n",
              "      <th></th>\n",
              "    </tr>\n",
              "  </thead>\n",
              "  <tbody>\n",
              "    <tr>\n",
              "      <th>2013-12-16 23:59:59</th>\n",
              "      <td>0.000866</td>\n",
              "      <td>0.000150</td>\n",
              "      <td>0.000299</td>\n",
              "      <td>0.000205</td>\n",
              "      <td>0</td>\n",
              "      <td>12</td>\n",
              "      <td>350</td>\n",
              "    </tr>\n",
              "    <tr>\n",
              "      <th>2013-12-17 23:59:59</th>\n",
              "      <td>0.000289</td>\n",
              "      <td>0.000116</td>\n",
              "      <td>0.000207</td>\n",
              "      <td>0.000269</td>\n",
              "      <td>1</td>\n",
              "      <td>12</td>\n",
              "      <td>351</td>\n",
              "    </tr>\n",
              "    <tr>\n",
              "      <th>2013-12-18 23:59:59</th>\n",
              "      <td>0.000362</td>\n",
              "      <td>0.000205</td>\n",
              "      <td>0.000267</td>\n",
              "      <td>0.000362</td>\n",
              "      <td>2</td>\n",
              "      <td>12</td>\n",
              "      <td>352</td>\n",
              "    </tr>\n",
              "    <tr>\n",
              "      <th>2013-12-19 23:59:59</th>\n",
              "      <td>0.001520</td>\n",
              "      <td>0.000328</td>\n",
              "      <td>0.000395</td>\n",
              "      <td>0.001162</td>\n",
              "      <td>3</td>\n",
              "      <td>12</td>\n",
              "      <td>353</td>\n",
              "    </tr>\n",
              "    <tr>\n",
              "      <th>2013-12-20 23:59:59</th>\n",
              "      <td>0.001143</td>\n",
              "      <td>0.000662</td>\n",
              "      <td>0.001143</td>\n",
              "      <td>0.000704</td>\n",
              "      <td>4</td>\n",
              "      <td>12</td>\n",
              "      <td>354</td>\n",
              "    </tr>\n",
              "  </tbody>\n",
              "</table>\n",
              "</div>\n",
              "      <button class=\"colab-df-convert\" onclick=\"convertToInteractive('df-af362466-fd2f-43f1-9433-f14e3e069016')\"\n",
              "              title=\"Convert this dataframe to an interactive table.\"\n",
              "              style=\"display:none;\">\n",
              "        \n",
              "  <svg xmlns=\"http://www.w3.org/2000/svg\" height=\"24px\"viewBox=\"0 0 24 24\"\n",
              "       width=\"24px\">\n",
              "    <path d=\"M0 0h24v24H0V0z\" fill=\"none\"/>\n",
              "    <path d=\"M18.56 5.44l.94 2.06.94-2.06 2.06-.94-2.06-.94-.94-2.06-.94 2.06-2.06.94zm-11 1L8.5 8.5l.94-2.06 2.06-.94-2.06-.94L8.5 2.5l-.94 2.06-2.06.94zm10 10l.94 2.06.94-2.06 2.06-.94-2.06-.94-.94-2.06-.94 2.06-2.06.94z\"/><path d=\"M17.41 7.96l-1.37-1.37c-.4-.4-.92-.59-1.43-.59-.52 0-1.04.2-1.43.59L10.3 9.45l-7.72 7.72c-.78.78-.78 2.05 0 2.83L4 21.41c.39.39.9.59 1.41.59.51 0 1.02-.2 1.41-.59l7.78-7.78 2.81-2.81c.8-.78.8-2.07 0-2.86zM5.41 20L4 18.59l7.72-7.72 1.47 1.35L5.41 20z\"/>\n",
              "  </svg>\n",
              "      </button>\n",
              "      \n",
              "  <style>\n",
              "    .colab-df-container {\n",
              "      display:flex;\n",
              "      flex-wrap:wrap;\n",
              "      gap: 12px;\n",
              "    }\n",
              "\n",
              "    .colab-df-convert {\n",
              "      background-color: #E8F0FE;\n",
              "      border: none;\n",
              "      border-radius: 50%;\n",
              "      cursor: pointer;\n",
              "      display: none;\n",
              "      fill: #1967D2;\n",
              "      height: 32px;\n",
              "      padding: 0 0 0 0;\n",
              "      width: 32px;\n",
              "    }\n",
              "\n",
              "    .colab-df-convert:hover {\n",
              "      background-color: #E2EBFA;\n",
              "      box-shadow: 0px 1px 2px rgba(60, 64, 67, 0.3), 0px 1px 3px 1px rgba(60, 64, 67, 0.15);\n",
              "      fill: #174EA6;\n",
              "    }\n",
              "\n",
              "    [theme=dark] .colab-df-convert {\n",
              "      background-color: #3B4455;\n",
              "      fill: #D2E3FC;\n",
              "    }\n",
              "\n",
              "    [theme=dark] .colab-df-convert:hover {\n",
              "      background-color: #434B5C;\n",
              "      box-shadow: 0px 1px 3px 1px rgba(0, 0, 0, 0.15);\n",
              "      filter: drop-shadow(0px 1px 2px rgba(0, 0, 0, 0.3));\n",
              "      fill: #FFFFFF;\n",
              "    }\n",
              "  </style>\n",
              "\n",
              "      <script>\n",
              "        const buttonEl =\n",
              "          document.querySelector('#df-af362466-fd2f-43f1-9433-f14e3e069016 button.colab-df-convert');\n",
              "        buttonEl.style.display =\n",
              "          google.colab.kernel.accessAllowed ? 'block' : 'none';\n",
              "\n",
              "        async function convertToInteractive(key) {\n",
              "          const element = document.querySelector('#df-af362466-fd2f-43f1-9433-f14e3e069016');\n",
              "          const dataTable =\n",
              "            await google.colab.kernel.invokeFunction('convertToInteractive',\n",
              "                                                     [key], {});\n",
              "          if (!dataTable) return;\n",
              "\n",
              "          const docLinkHtml = 'Like what you see? Visit the ' +\n",
              "            '<a target=\"_blank\" href=https://colab.research.google.com/notebooks/data_table.ipynb>data table notebook</a>'\n",
              "            + ' to learn more about interactive tables.';\n",
              "          element.innerHTML = '';\n",
              "          dataTable['output_type'] = 'display_data';\n",
              "          await google.colab.output.renderOutput(dataTable, element);\n",
              "          const docLink = document.createElement('div');\n",
              "          docLink.innerHTML = docLinkHtml;\n",
              "          element.appendChild(docLink);\n",
              "        }\n",
              "      </script>\n",
              "    </div>\n",
              "  </div>\n",
              "  "
            ]
          },
          "metadata": {},
          "execution_count": 5
        }
      ]
    },
    {
      "cell_type": "code",
      "source": [
        "sns.displot(data=train,x=train.index ,y='Close')"
      ],
      "metadata": {
        "id": "Dr9Akw7eh0QX",
        "outputId": "eaf1ec86-a579-4fd0-c4b0-7c998766c3ef",
        "colab": {
          "base_uri": "https://localhost:8080/",
          "height": 386
        }
      },
      "execution_count": 6,
      "outputs": [
        {
          "output_type": "execute_result",
          "data": {
            "text/plain": [
              "<seaborn.axisgrid.FacetGrid at 0x7f3c497b8c70>"
            ]
          },
          "metadata": {},
          "execution_count": 6
        },
        {
          "output_type": "display_data",
          "data": {
            "text/plain": [
              "<Figure size 360x360 with 1 Axes>"
            ],
            "image/png": "[encoded data removed]"
          },
          "metadata": {}
        }
      ]
    },
    {
      "cell_type": "code",
      "source": [
        "train['Close'].loc[(train.index < '01-01-2020')].plot() # Since there's a huge increase in value in 2021 we'll plot the Close price before that period of time."
      ],
      "metadata": {
        "id": "V2PztQc0be9P",
        "outputId": "f425a02a-bba6-4e5a-bd8e-cc5ebf7f4c32",
        "colab": {
          "base_uri": "https://localhost:8080/",
          "height": 289
        }
      },
      "execution_count": 7,
      "outputs": [
        {
          "output_type": "execute_result",
          "data": {
            "text/plain": [
              "<matplotlib.axes._subplots.AxesSubplot at 0x7f3c3143e970>"
            ]
          },
          "metadata": {},
          "execution_count": 7
        },
        {
          "output_type": "display_data",
          "data": {
            "text/plain": [
              "<Figure size 432x288 with 1 Axes>"
            ],
            "image/png": "[encoded data removed]"
          },
          "metadata": {}
        }
      ]
    },
    {
      "cell_type": "code",
      "source": [
        "train['Close'].loc[train.index > '01-01-2017'].plot()"
      ],
      "metadata": {
        "colab": {
          "base_uri": "https://localhost:8080/",
          "height": 297
        },
        "id": "_3ZZ0Pcq3pl8",
        "outputId": "13f653a1-a29b-4236-c818-7019e34bf7e5"
      },
      "execution_count": 8,
      "outputs": [
        {
          "output_type": "execute_result",
          "data": {
            "text/plain": [
              "<matplotlib.axes._subplots.AxesSubplot at 0x7f3c3142ad90>"
            ]
          },
          "metadata": {},
          "execution_count": 8
        },
        {
          "output_type": "display_data",
          "data": {
            "text/plain": [
              "<Figure size 432x288 with 1 Axes>"
            ],
            "image/png": "[encoded data removed]"
          },
          "metadata": {}
        }
      ]
    },
    {
      "cell_type": "code",
      "source": [
        "!gdown 1WNyI1DedTIhg6iaOYTA6qMTSQCBOCPJB # another dataset which i'll be using as test data. source: investing.com\n",
        "newdf = pd.read_csv('dogecoin.csv')\n",
        "test = newdf.iloc[::-1].reset_index(drop=True)\n",
        "test.index = pd.to_datetime(test['Date'])\n",
        "test.rename({'Price':'Close'},axis=1,inplace=True)\n",
        "test.drop(['Date','Vol.','Change %'],axis=1,inplace=True)\n",
        "test = test[['High','Low','Open','Close']]\n",
        "test = create_features(test)\n",
        "extended_df = train.append(test) # merging both train and test data and storing it in extended_df variable.\n",
        "test"
      ],
      "metadata": {
        "colab": {
          "base_uri": "https://localhost:8080/",
          "height": 524
        },
        "id": "U3Hew6GBfNdg",
        "outputId": "500240f2-3123-4805-88cd-82de55897848"
      },
      "execution_count": 9,
      "outputs": [
        {
          "output_type": "stream",
          "name": "stdout",
          "text": [
            "Downloading...\n",
            "From: https://drive.google.com/uc?id=1WNyI1DedTIhg6iaOYTA6qMTSQCBOCPJB\n",
            "To: /content/dogecoin.csv\n",
            "\r  0% 0.00/43.6k [00:00<?, ?B/s]\r100% 43.6k/43.6k [00:00<00:00, 37.2MB/s]\n"
          ]
        },
        {
          "output_type": "execute_result",
          "data": {
            "text/plain": [
              "                High       Low      Open     Close  dayofweek  month  \\\n",
              "Date                                                                   \n",
              "2021-07-07  0.236157  0.219121  0.233139  0.222236          2      7   \n",
              "2021-07-08  0.222825  0.204676  0.222249  0.207422          3      7   \n",
              "2021-07-09  0.228825  0.195927  0.207422  0.219272          4      7   \n",
              "2021-07-10  0.227071  0.209778  0.219219  0.213355          5      7   \n",
              "2021-07-11  0.218014  0.210114  0.213362  0.214666          6      7   \n",
              "...              ...       ...       ...       ...        ...    ...   \n",
              "2023-01-18  0.089473  0.079614  0.082806  0.080059          2      1   \n",
              "2023-01-19  0.082122  0.079946  0.080042  0.081613          3      1   \n",
              "2023-01-20  0.086979  0.080688  0.081607  0.086305          4      1   \n",
              "2023-01-21  0.088987  0.084370  0.086296  0.084605          5      1   \n",
              "2023-01-22  0.093162  0.084502  0.084605  0.092162          6      1   \n",
              "\n",
              "            dayofyear  \n",
              "Date                   \n",
              "2021-07-07        188  \n",
              "2021-07-08        189  \n",
              "2021-07-09        190  \n",
              "2021-07-10        191  \n",
              "2021-07-11        192  \n",
              "...               ...  \n",
              "2023-01-18         18  \n",
              "2023-01-19         19  \n",
              "2023-01-20         20  \n",
              "2023-01-21         21  \n",
              "2023-01-22         22  \n",
              "\n",
              "[565 rows x 7 columns]"
            ],
            "text/html": [
              "\n",
              "  <div id=\"df-538e4dbb-5f6b-4ddf-b3a0-12a6d40db990\">\n",
              "    <div class=\"colab-df-container\">\n",
              "      <div>\n",
              "<style scoped>\n",
              "    .dataframe tbody tr th:only-of-type {\n",
              "        vertical-align: middle;\n",
              "    }\n",
              "\n",
              "    .dataframe tbody tr th {\n",
              "        vertical-align: top;\n",
              "    }\n",
              "\n",
              "    .dataframe thead th {\n",
              "        text-align: right;\n",
              "    }\n",
              "</style>\n",
              "<table border=\"1\" class=\"dataframe\">\n",
              "  <thead>\n",
              "    <tr style=\"text-align: right;\">\n",
              "      <th></th>\n",
              "      <th>High</th>\n",
              "      <th>Low</th>\n",
              "      <th>Open</th>\n",
              "      <th>Close</th>\n",
              "      <th>dayofweek</th>\n",
              "      <th>month</th>\n",
              "      <th>dayofyear</th>\n",
              "    </tr>\n",
              "    <tr>\n",
              "      <th>Date</th>\n",
              "      <th></th>\n",
              "      <th></th>\n",
              "      <th></th>\n",
              "      <th></th>\n",
              "      <th></th>\n",
              "      <th></th>\n",
              "      <th></th>\n",
              "    </tr>\n",
              "  </thead>\n",
              "  <tbody>\n",
              "    <tr>\n",
              "      <th>2021-07-07</th>\n",
              "      <td>0.236157</td>\n",
              "      <td>0.219121</td>\n",
              "      <td>0.233139</td>\n",
              "      <td>0.222236</td>\n",
              "      <td>2</td>\n",
              "      <td>7</td>\n",
              "      <td>188</td>\n",
              "    </tr>\n",
              "    <tr>\n",
              "      <th>2021-07-08</th>\n",
              "      <td>0.222825</td>\n",
              "      <td>0.204676</td>\n",
              "      <td>0.222249</td>\n",
              "      <td>0.207422</td>\n",
              "      <td>3</td>\n",
              "      <td>7</td>\n",
              "      <td>189</td>\n",
              "    </tr>\n",
              "    <tr>\n",
              "      <th>2021-07-09</th>\n",
              "      <td>0.228825</td>\n",
              "      <td>0.195927</td>\n",
              "      <td>0.207422</td>\n",
              "      <td>0.219272</td>\n",
              "      <td>4</td>\n",
              "      <td>7</td>\n",
              "      <td>190</td>\n",
              "    </tr>\n",
              "    <tr>\n",
              "      <th>2021-07-10</th>\n",
              "      <td>0.227071</td>\n",
              "      <td>0.209778</td>\n",
              "      <td>0.219219</td>\n",
              "      <td>0.213355</td>\n",
              "      <td>5</td>\n",
              "      <td>7</td>\n",
              "      <td>191</td>\n",
              "    </tr>\n",
              "    <tr>\n",
              "      <th>2021-07-11</th>\n",
              "      <td>0.218014</td>\n",
              "      <td>0.210114</td>\n",
              "      <td>0.213362</td>\n",
              "      <td>0.214666</td>\n",
              "      <td>6</td>\n",
              "      <td>7</td>\n",
              "      <td>192</td>\n",
              "    </tr>\n",
              "    <tr>\n",
              "      <th>...</th>\n",
              "      <td>...</td>\n",
              "      <td>...</td>\n",
              "      <td>...</td>\n",
              "      <td>...</td>\n",
              "      <td>...</td>\n",
              "      <td>...</td>\n",
              "      <td>...</td>\n",
              "    </tr>\n",
              "    <tr>\n",
              "      <th>2023-01-18</th>\n",
              "      <td>0.089473</td>\n",
              "      <td>0.079614</td>\n",
              "      <td>0.082806</td>\n",
              "      <td>0.080059</td>\n",
              "      <td>2</td>\n",
              "      <td>1</td>\n",
              "      <td>18</td>\n",
              "    </tr>\n",
              "    <tr>\n",
              "      <th>2023-01-19</th>\n",
              "      <td>0.082122</td>\n",
              "      <td>0.079946</td>\n",
              "      <td>0.080042</td>\n",
              "      <td>0.081613</td>\n",
              "      <td>3</td>\n",
              "      <td>1</td>\n",
              "      <td>19</td>\n",
              "    </tr>\n",
              "    <tr>\n",
              "      <th>2023-01-20</th>\n",
              "      <td>0.086979</td>\n",
              "      <td>0.080688</td>\n",
              "      <td>0.081607</td>\n",
              "      <td>0.086305</td>\n",
              "      <td>4</td>\n",
              "      <td>1</td>\n",
              "      <td>20</td>\n",
              "    </tr>\n",
              "    <tr>\n",
              "      <th>2023-01-21</th>\n",
              "      <td>0.088987</td>\n",
              "      <td>0.084370</td>\n",
              "      <td>0.086296</td>\n",
              "      <td>0.084605</td>\n",
              "      <td>5</td>\n",
              "      <td>1</td>\n",
              "      <td>21</td>\n",
              "    </tr>\n",
              "    <tr>\n",
              "      <th>2023-01-22</th>\n",
              "      <td>0.093162</td>\n",
              "      <td>0.084502</td>\n",
              "      <td>0.084605</td>\n",
              "      <td>0.092162</td>\n",
              "      <td>6</td>\n",
              "      <td>1</td>\n",
              "      <td>22</td>\n",
              "    </tr>\n",
              "  </tbody>\n",
              "</table>\n",
              "<p>565 rows × 7 columns</p>\n",
              "</div>\n",
              "      <button class=\"colab-df-convert\" onclick=\"convertToInteractive('df-538e4dbb-5f6b-4ddf-b3a0-12a6d40db990')\"\n",
              "              title=\"Convert this dataframe to an interactive table.\"\n",
              "              style=\"display:none;\">\n",
              "        \n",
              "  <svg xmlns=\"http://www.w3.org/2000/svg\" height=\"24px\"viewBox=\"0 0 24 24\"\n",
              "       width=\"24px\">\n",
              "    <path d=\"M0 0h24v24H0V0z\" fill=\"none\"/>\n",
              "    <path d=\"M18.56 5.44l.94 2.06.94-2.06 2.06-.94-2.06-.94-.94-2.06-.94 2.06-2.06.94zm-11 1L8.5 8.5l.94-2.06 2.06-.94-2.06-.94L8.5 2.5l-.94 2.06-2.06.94zm10 10l.94 2.06.94-2.06 2.06-.94-2.06-.94-.94-2.06-.94 2.06-2.06.94z\"/><path d=\"M17.41 7.96l-1.37-1.37c-.4-.4-.92-.59-1.43-.59-.52 0-1.04.2-1.43.59L10.3 9.45l-7.72 7.72c-.78.78-.78 2.05 0 2.83L4 21.41c.39.39.9.59 1.41.59.51 0 1.02-.2 1.41-.59l7.78-7.78 2.81-2.81c.8-.78.8-2.07 0-2.86zM5.41 20L4 18.59l7.72-7.72 1.47 1.35L5.41 20z\"/>\n",
              "  </svg>\n",
              "      </button>\n",
              "      \n",
              "  <style>\n",
              "    .colab-df-container {\n",
              "      display:flex;\n",
              "      flex-wrap:wrap;\n",
              "      gap: 12px;\n",
              "    }\n",
              "\n",
              "    .colab-df-convert {\n",
              "      background-color: #E8F0FE;\n",
              "      border: none;\n",
              "      border-radius: 50%;\n",
              "      cursor: pointer;\n",
              "      display: none;\n",
              "      fill: #1967D2;\n",
              "      height: 32px;\n",
              "      padding: 0 0 0 0;\n",
              "      width: 32px;\n",
              "    }\n",
              "\n",
              "    .colab-df-convert:hover {\n",
              "      background-color: #E2EBFA;\n",
              "      box-shadow: 0px 1px 2px rgba(60, 64, 67, 0.3), 0px 1px 3px 1px rgba(60, 64, 67, 0.15);\n",
              "      fill: #174EA6;\n",
              "    }\n",
              "\n",
              "    [theme=dark] .colab-df-convert {\n",
              "      background-color: #3B4455;\n",
              "      fill: #D2E3FC;\n",
              "    }\n",
              "\n",
              "    [theme=dark] .colab-df-convert:hover {\n",
              "      background-color: #434B5C;\n",
              "      box-shadow: 0px 1px 3px 1px rgba(0, 0, 0, 0.15);\n",
              "      filter: drop-shadow(0px 1px 2px rgba(0, 0, 0, 0.3));\n",
              "      fill: #FFFFFF;\n",
              "    }\n",
              "  </style>\n",
              "\n",
              "      <script>\n",
              "        const buttonEl =\n",
              "          document.querySelector('#df-538e4dbb-5f6b-4ddf-b3a0-12a6d40db990 button.colab-df-convert');\n",
              "        buttonEl.style.display =\n",
              "          google.colab.kernel.accessAllowed ? 'block' : 'none';\n",
              "\n",
              "        async function convertToInteractive(key) {\n",
              "          const element = document.querySelector('#df-538e4dbb-5f6b-4ddf-b3a0-12a6d40db990');\n",
              "          const dataTable =\n",
              "            await google.colab.kernel.invokeFunction('convertToInteractive',\n",
              "                                                     [key], {});\n",
              "          if (!dataTable) return;\n",
              "\n",
              "          const docLinkHtml = 'Like what you see? Visit the ' +\n",
              "            '<a target=\"_blank\" href=https://colab.research.google.com/notebooks/data_table.ipynb>data table notebook</a>'\n",
              "            + ' to learn more about interactive tables.';\n",
              "          element.innerHTML = '';\n",
              "          dataTable['output_type'] = 'display_data';\n",
              "          await google.colab.output.renderOutput(dataTable, element);\n",
              "          const docLink = document.createElement('div');\n",
              "          docLink.innerHTML = docLinkHtml;\n",
              "          element.appendChild(docLink);\n",
              "        }\n",
              "      </script>\n",
              "    </div>\n",
              "  </div>\n",
              "  "
            ]
          },
          "metadata": {},
          "execution_count": 9
        }
      ]
    },
    {
      "cell_type": "code",
      "source": [
        "fig, ax = plt.subplots(figsize=(10,5))\n",
        "plt.scatter(data=test, x = test.index, y = 'Close')"
      ],
      "metadata": {
        "colab": {
          "base_uri": "https://localhost:8080/",
          "height": 339
        },
        "id": "l9cunjbi3Srw",
        "outputId": "d979bf10-543d-4e42-f48e-6bcbb9f2c2b9"
      },
      "execution_count": 10,
      "outputs": [
        {
          "output_type": "execute_result",
          "data": {
            "text/plain": [
              "<matplotlib.collections.PathCollection at 0x7f3c2e562ee0>"
            ]
          },
          "metadata": {},
          "execution_count": 10
        },
        {
          "output_type": "display_data",
          "data": {
            "text/plain": [
              "<Figure size 720x360 with 1 Axes>"
            ],
            "image/png": "[encoded data removed]"
          },
          "metadata": {}
        }
      ]
    },
    {
      "cell_type": "code",
      "source": [
        "fig, ax = plt.subplots(figsize=(10,7))\n",
        "sns.boxplot(data=test,x='month',y='Close')\n",
        "ax.set_title('Close price by month. 2021-07-07 to 2023-01-22 (test data)')"
      ],
      "metadata": {
        "colab": {
          "base_uri": "https://localhost:8080/",
          "height": 479
        },
        "id": "_rKD8np075kW",
        "outputId": "6a02ed1e-974c-40b7-85ef-d4c4d19dc2f5"
      },
      "execution_count": 11,
      "outputs": [
        {
          "output_type": "execute_result",
          "data": {
            "text/plain": [
              "Text(0.5, 1.0, 'Close price by month. 2021-07-07 to 2023-01-22 (test data)')"
            ]
          },
          "metadata": {},
          "execution_count": 11
        },
        {
          "output_type": "display_data",
          "data": {
            "text/plain": [
              "<Figure size 720x504 with 1 Axes>"
            ],
            "image/png": "[encoded data removed]"
          },
          "metadata": {}
        }
      ]
    },
    {
      "cell_type": "markdown",
      "source": [
        "**Creating the model**"
      ],
      "metadata": {
        "id": "meR109QGCpw-"
      }
    },
    {
      "cell_type": "code",
      "source": [
        "FEATURES = ['High','Low','Open','dayofweek','month','dayofyear']\n",
        "TARGET = 'Close'"
      ],
      "metadata": {
        "id": "NK0WFj1OCVFD"
      },
      "execution_count": 12,
      "outputs": []
    },
    {
      "cell_type": "code",
      "source": [
        "xtrain = train[FEATURES]\n",
        "ytrain = train[TARGET]\n",
        "\n",
        "xtest = test[FEATURES]\n",
        "ytest = test[TARGET]"
      ],
      "metadata": {
        "id": "6nzeLd0PCo8w"
      },
      "execution_count": 13,
      "outputs": []
    },
    {
      "cell_type": "code",
      "source": [
        "# params = { 'max_depth': [3,4,5,6],                                   # literally yebar masraf.\n",
        "#            'learning_rate': [0.01, 0.05, 0.1],\n",
        "#            'n_estimators': [100, 500, 1000],\n",
        "#            'colsample_bytree': [0.3, 0.7],\n",
        "#            'early_stopping_rounds':[20,50,100],\n",
        "#            'objective':['reg:linear']}\n",
        "# xgbr1 = xgb.XGBRegressor(seed = 20)\n",
        "# clf = GridSearchCV(estimator=xgbr1, \n",
        "#                    param_grid=params,\n",
        "#                    scoring='neg_mean_squared_error', \n",
        "#                    verbose=1)\n",
        "# clf.fit(xtrain, ytrain)\n",
        "# print(\"Best parameters:\", clf.best_params_)\n",
        "# print(\"Lowest RMSE: \", (-clf.best_score_)**(1/2.0))"
      ],
      "metadata": {
        "id": "BJ9-HySjRyDa"
      },
      "execution_count": 14,
      "outputs": []
    },
    {
      "cell_type": "code",
      "source": [
        "par = {'colsample_bytree': 0.7, 'early_stopping_rounds': 20,\n",
        "       'learning_rate': 0.01,'max_depth': 3,\n",
        "       'n_estimators': 500, 'objective': 'reg:squarederror'}\n",
        "\n",
        "\n",
        "xgbr = xgb.XGBRegressor(colsample_bytree=par['colsample_bytree'], # chatgpt wrote this little part for me <3\n",
        "                        early_stopping_rounds=par['early_stopping_rounds'],\n",
        "                        learning_rate=par['learning_rate'], \n",
        "                        max_depth=par['max_depth'], \n",
        "                        n_estimators=par['n_estimators'],\n",
        "                        objective=par['objective'])\n",
        "\n",
        "xgbr.fit(xtrain, ytrain,\n",
        "        eval_set=[(xtrain, ytrain), (xtest, ytest)],\n",
        "        verbose=100)"
      ],
      "metadata": {
        "colab": {
          "base_uri": "https://localhost:8080/"
        },
        "id": "Mrwc-pFyuNLg",
        "outputId": "d6191c7a-66f0-45b9-f2d1-38e338df6ec5"
      },
      "execution_count": 15,
      "outputs": [
        {
          "output_type": "stream",
          "name": "stdout",
          "text": [
            "[0]\tvalidation_0-rmse:0.485347\tvalidation_1-rmse:0.364568\n",
            "[100]\tvalidation_0-rmse:0.177877\tvalidation_1-rmse:0.133164\n",
            "[200]\tvalidation_0-rmse:0.065266\tvalidation_1-rmse:0.051353\n",
            "[300]\tvalidation_0-rmse:0.024069\tvalidation_1-rmse:0.023716\n",
            "[400]\tvalidation_0-rmse:0.009119\tvalidation_1-rmse:0.014788\n",
            "[499]\tvalidation_0-rmse:0.003926\tvalidation_1-rmse:0.012251\n"
          ]
        },
        {
          "output_type": "execute_result",
          "data": {
            "text/plain": [
              "XGBRegressor(colsample_bytree=0.7, early_stopping_rounds=20, learning_rate=0.01,\n",
              "             n_estimators=500, objective='reg:squarederror')"
            ]
          },
          "metadata": {},
          "execution_count": 15
        }
      ]
    },
    {
      "cell_type": "code",
      "source": [
        "# making a feature importance dataframe and plot it to visualize the impact of each feature on the model.\n",
        "fi = pd.DataFrame(data=xgbr.feature_importances_, \n",
        "             index=xgbr.get_booster().feature_names,\n",
        "             columns=['importance'])\n",
        "fi.sort_values('importance').plot(kind='barh', title='Feature Importance')\n",
        "plt.show()"
      ],
      "metadata": {
        "colab": {
          "base_uri": "https://localhost:8080/",
          "height": 282
        },
        "id": "2B8htMNVvB1Z",
        "outputId": "6580306c-7f23-4576-e804-7c66e9a3eda1"
      },
      "execution_count": 16,
      "outputs": [
        {
          "output_type": "display_data",
          "data": {
            "text/plain": [
              "<Figure size 432x288 with 1 Axes>"
            ],
            "image/png": "[encoded data removed]"
          },
          "metadata": {}
        }
      ]
    },
    {
      "cell_type": "code",
      "source": [
        "# adding the prediction column to the test data, then merging it with the entire dataframe to visually compare results.\n",
        "test['predictions'] = xgbr.predict(xtest)\n",
        "extended_df = extended_df.merge(test[['predictions']], how='left', left_index=True, right_index=True)"
      ],
      "metadata": {
        "id": "pqatLCx5wsJU"
      },
      "execution_count": 17,
      "outputs": []
    },
    {
      "cell_type": "code",
      "source": [
        "ax = extended_df['Close'].loc[extended_df.index > '01-01-2021'].plot(figsize=(15, 5))\n",
        "extended_df['predictions'].plot(ax=ax, style='.')\n",
        "plt.legend(['Actual Values', 'Predictions'])\n",
        "ax.set_title('Entire dataset against predictions')\n",
        "plt.show()"
      ],
      "metadata": {
        "colab": {
          "base_uri": "https://localhost:8080/",
          "height": 346
        },
        "id": "7A1fEFLLAmfy",
        "outputId": "cb6f7a52-8533-49c8-e4d4-4ab98b0e7a39"
      },
      "execution_count": 18,
      "outputs": [
        {
          "output_type": "display_data",
          "data": {
            "text/plain": [
              "<Figure size 1080x360 with 1 Axes>"
            ],
            "image/png": "[encoded data removed]"
          },
          "metadata": {}
        }
      ]
    },
    {
      "cell_type": "code",
      "source": [
        "score = np.sqrt(mean_squared_error(test['Close'], test['predictions']))\n",
        "print(f'RMSE Score on Test set: {score:0.3f}')\n",
        "# 6 = RMSE Score on Test set: 0.01344\n",
        "# 4 = RMSE Score on Test set: 0.01271\n",
        "# 3 = RMSE Score on Test set: 0.01225"
      ],
      "metadata": {
        "colab": {
          "base_uri": "https://localhost:8080/"
        },
        "id": "-31HqGGqG0NM",
        "outputId": "2c9f3d99-3e8c-41c6-ede7-117226cf287a"
      },
      "execution_count": 19,
      "outputs": [
        {
          "output_type": "stream",
          "name": "stdout",
          "text": [
            "RMSE Score on Test set: 0.012\n"
          ]
        }
      ]
    },
    {
      "cell_type": "markdown",
      "source": [
        "finding the best and the worst predictions"
      ],
      "metadata": {
        "id": "N9HnIoznbn3B"
      }
    },
    {
      "cell_type": "code",
      "source": [
        "test['error']=np.abs(test[TARGET] - test['predictions'])\n",
        "test['date'] = test.index.date\n",
        "test.groupby(['date'])['error'].mean().sort_values(ascending=False).head(10) #worst"
      ],
      "metadata": {
        "colab": {
          "base_uri": "https://localhost:8080/"
        },
        "id": "TSpSgRi6bnlb",
        "outputId": "3df6d720-eb29-47ee-f32e-1bb8ee021f2f"
      },
      "execution_count": 20,
      "outputs": [
        {
          "output_type": "execute_result",
          "data": {
            "text/plain": [
              "date\n",
              "2022-01-16    0.044635\n",
              "2022-04-26    0.044330\n",
              "2022-04-06    0.043887\n",
              "2021-07-18    0.040346\n",
              "2021-12-07    0.037060\n",
              "2022-01-15    0.036451\n",
              "2021-07-26    0.034748\n",
              "2021-07-15    0.034684\n",
              "2021-12-24    0.033162\n",
              "2022-01-20    0.031539\n",
              "Name: error, dtype: float64"
            ]
          },
          "metadata": {},
          "execution_count": 20
        }
      ]
    },
    {
      "cell_type": "code",
      "source": [
        "test.groupby(['date'])['error'].mean().sort_values(ascending=True).head(10) #best"
      ],
      "metadata": {
        "colab": {
          "base_uri": "https://localhost:8080/"
        },
        "id": "X7qM4TW6bxPE",
        "outputId": "ba2ca4d0-0de9-4dc8-fe85-ea65aa6ff2b3"
      },
      "execution_count": 21,
      "outputs": [
        {
          "output_type": "execute_result",
          "data": {
            "text/plain": [
              "date\n",
              "2022-12-31    0.000005\n",
              "2022-11-23    0.000015\n",
              "2021-12-23    0.000019\n",
              "2022-07-28    0.000023\n",
              "2022-01-29    0.000031\n",
              "2022-07-19    0.000042\n",
              "2021-08-29    0.000069\n",
              "2021-08-25    0.000079\n",
              "2022-08-20    0.000087\n",
              "2022-10-04    0.000110\n",
              "Name: error, dtype: float64"
            ]
          },
          "metadata": {},
          "execution_count": 21
        }
      ]
    }
  ],
  "metadata": {
    "colab": {
      "provenance": []
    },
    "kernelspec": {
      "display_name": "Python 3",
      "name": "python3"
    }
  },
  "nbformat": 4,
  "nbformat_minor": 0
}